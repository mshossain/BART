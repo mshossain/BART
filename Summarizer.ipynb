{
 "cells": [
  {
   "cell_type": "code",
   "execution_count": 1,
   "id": "a7d97727-ab50-4f69-a322-bf2d52092589",
   "metadata": {},
   "outputs": [],
   "source": [
    "from transformers import BartForConditionalGeneration, BartTokenizer"
   ]
  },
  {
   "cell_type": "code",
   "execution_count": 2,
   "id": "3d27351f-86c4-4aab-bff9-86e9e9b0980a",
   "metadata": {},
   "outputs": [
    {
     "data": {
      "application/vnd.jupyter.widget-view+json": {
       "model_id": "2ff56bdf89b2433982140ed0dd0714e0",
       "version_major": 2,
       "version_minor": 0
      },
      "text/plain": [
       "config.json:   0%|          | 0.00/1.58k [00:00<?, ?B/s]"
      ]
     },
     "metadata": {},
     "output_type": "display_data"
    },
    {
     "name": "stderr",
     "output_type": "stream",
     "text": [
      "C:\\Users\\mshos\\AppData\\Local\\Programs\\Python\\Python311\\Lib\\site-packages\\huggingface_hub\\file_download.py:149: UserWarning: `huggingface_hub` cache-system uses symlinks by default to efficiently store duplicated files but your machine does not support them in C:\\Users\\mshos\\.cache\\huggingface\\hub\\models--facebook--bart-large-cnn. Caching files will still work but in a degraded version that might require more space on your disk. This warning can be disabled by setting the `HF_HUB_DISABLE_SYMLINKS_WARNING` environment variable. For more details, see https://huggingface.co/docs/huggingface_hub/how-to-cache#limitations.\n",
      "To support symlinks on Windows, you either need to activate Developer Mode or to run Python as an administrator. In order to see activate developer mode, see this article: https://docs.microsoft.com/en-us/windows/apps/get-started/enable-your-device-for-development\n",
      "  warnings.warn(message)\n"
     ]
    },
    {
     "data": {
      "application/vnd.jupyter.widget-view+json": {
       "model_id": "14d31cfe1ba84f58bccec5ac8b8594f2",
       "version_major": 2,
       "version_minor": 0
      },
      "text/plain": [
       "model.safetensors:   0%|          | 0.00/1.63G [00:00<?, ?B/s]"
      ]
     },
     "metadata": {},
     "output_type": "display_data"
    },
    {
     "data": {
      "application/vnd.jupyter.widget-view+json": {
       "model_id": "87dcfb379c3a410ba7f56b52617e5d71",
       "version_major": 2,
       "version_minor": 0
      },
      "text/plain": [
       "generation_config.json:   0%|          | 0.00/363 [00:00<?, ?B/s]"
      ]
     },
     "metadata": {},
     "output_type": "display_data"
    },
    {
     "data": {
      "application/vnd.jupyter.widget-view+json": {
       "model_id": "3360a9bf43224368a8d22be1c3a1285c",
       "version_major": 2,
       "version_minor": 0
      },
      "text/plain": [
       "vocab.json:   0%|          | 0.00/899k [00:00<?, ?B/s]"
      ]
     },
     "metadata": {},
     "output_type": "display_data"
    },
    {
     "data": {
      "application/vnd.jupyter.widget-view+json": {
       "model_id": "1662a1db542842e3b8643618190420c2",
       "version_major": 2,
       "version_minor": 0
      },
      "text/plain": [
       "merges.txt:   0%|          | 0.00/456k [00:00<?, ?B/s]"
      ]
     },
     "metadata": {},
     "output_type": "display_data"
    }
   ],
   "source": [
    "# Load the model and tokenizer\n",
    "model = BartForConditionalGeneration.from_pretrained(\n",
    "    'facebook/bart-large-cnn')\n",
    "tokenizer = BartTokenizer.from_pretrained(\n",
    "    'facebook/bart-large-cnn')"
   ]
  },
  {
   "cell_type": "code",
   "execution_count": 3,
   "id": "7356503c-12f3-4cfb-9268-02cc59919588",
   "metadata": {},
   "outputs": [],
   "source": [
    "def summarize(text, maxSummarylength=500):\n",
    "    # Encode the text and summarize\n",
    "    inputs = tokenizer.encode(\"summarize: \" +\n",
    "                              text,\n",
    "                              return_tensors=\"pt\",\n",
    "                              max_length=1024, truncation=True)\n",
    "    summary_ids = model.generate(inputs, max_length=maxSummarylength,\n",
    "                                 min_length=int(maxSummarylength/5),\n",
    "                                 length_penalty=10.0,\n",
    "                                 num_beams=4, early_stopping=True)\n",
    "    summary = tokenizer.decode(summary_ids[0], skip_special_tokens=True)\n",
    "    return summary"
   ]
  },
  {
   "cell_type": "code",
   "execution_count": 4,
   "id": "4d8e7c1c-5887-4fe0-a7a0-b0ecaa6a97ed",
   "metadata": {},
   "outputs": [],
   "source": [
    "def split_text_into_pieces(text,\n",
    "                           max_tokens=900,\n",
    "                           overlapPercent=10):\n",
    "    # Tokenize the text\n",
    "    tokens = tokenizer.tokenize(text)\n",
    "\n",
    "    # Calculate the overlap in tokens\n",
    "    overlap_tokens = int(max_tokens * overlapPercent / 100)\n",
    "\n",
    "    # Split the tokens into chunks of size\n",
    "    # max_tokens with overlap\n",
    "    pieces = [tokens[i:i + max_tokens]\n",
    "              for i in range(0, len(tokens),\n",
    "                             max_tokens - overlap_tokens)]\n",
    "\n",
    "    # Convert the token pieces back into text\n",
    "    text_pieces = [tokenizer.decode(\n",
    "        tokenizer.convert_tokens_to_ids(piece),\n",
    "        skip_special_tokens=True) for piece in pieces]\n",
    "\n",
    "    return text_pieces\n"
   ]
  },
  {
   "cell_type": "code",
   "execution_count": 5,
   "id": "8f5cfde6-79f7-4f46-9ce2-2140475db7a2",
   "metadata": {},
   "outputs": [],
   "source": [
    "\n",
    "def recursive_summarize(text, max_length=200, recursionLevel=0):\n",
    "    recursionLevel=recursionLevel+1\n",
    "    print(\"######### Recursion level: \",\n",
    "          recursionLevel,\"\\n\\n######### \")\n",
    "    tokens = tokenizer.tokenize(text)\n",
    "    expectedCountOfChunks = len(tokens)/max_length\n",
    "    max_length=int(len(tokens)/expectedCountOfChunks)+2\n",
    "\n",
    "    # Break the text into pieces of max_length\n",
    "    pieces = split_text_into_pieces(text, max_tokens=max_length)\n",
    "\n",
    "    print(\"Number of pieces: \", len(pieces))\n",
    "    # Summarize each piece\n",
    "    summaries=[]\n",
    "    k=0\n",
    "    for k in range(0, len(pieces)):\n",
    "        piece=pieces[k]\n",
    "        print(\"****************************************************\")\n",
    "        print(\"Piece:\",(k+1),\" out of \", len(pieces), \"pieces\")\n",
    "        print(piece, \"\\n\")\n",
    "        summary =summarize(piece, maxSummarylength=max_length/3*2)\n",
    "        print(\"SUMNMARY: \", summary)\n",
    "        summaries.append(summary)\n",
    "        print(\"****************************************************\")\n",
    "\n",
    "    concatenated_summary = ' '.join(summaries)\n",
    "\n",
    "    tokens = tokenizer.tokenize(concatenated_summary)\n",
    "\n",
    "    if len(tokens) > max_length:\n",
    "        # If the concatenated_summary is too long, repeat the process\n",
    "        print(\"############# GOING RECURSIVE ##############\")\n",
    "        return recursive_summarize(concatenated_summary,\n",
    "                                   max_length=max_length,\n",
    "                                   recursionLevel=recursionLevel)\n",
    "    else:\n",
    "      # Concatenate the summaries and summarize again\n",
    "        final_summary=concatenated_summary\n",
    "        if len(pieces)>1:\n",
    "            final_summary = summarize(concatenated_summary,\n",
    "                                  maxSummarylength=max_length)\n",
    "        return final_summary"
   ]
  },
  {
   "cell_type": "code",
   "execution_count": 6,
   "id": "fce84b3d-3d00-4acb-8730-6c955dac296f",
   "metadata": {},
   "outputs": [],
   "source": [
    "# Example usage\n",
    "text = '''Once upon a time, in a land far, far away, there lived a young girl named Amelia. Amelia lived in a small cottage at the edge of a dense forest with her mother, father, and younger brother, Max. The forest was a magical place, filled with all sorts of creatures, both friendly and fearsome. Amelia and Max loved to explore the forest, and they had many adventures there.\n",
    "\n",
    "One day, while Amelia and Max were exploring a particularly dense part of the forest, they stumbled upon a hidden cave. The cave was tucked away behind a thicket of bushes and was almost invisible unless you knew where to look. Amelia and Max were curious and decided to venture inside.\n",
    "a\n",
    "The inside of the cave was dark and damp, but Amelia and Max were not afraid. They had brought a lantern with them, and Amelia lit it as they ventured further into the cave. As they walked deeper into the cave, they noticed strange markings on the walls. They were unlike anything they had ever seen before.\n",
    "\n",
    "Amelia and Max continued to explore the cave, and as they ventured deeper, they came across a large chamber. In the center of the chamber was a pedestal with a small, glowing object resting on it. Amelia approached the pedestal and picked up the object. It was a small, round stone that emitted a soft, warm light.\n",
    "\n",
    "As soon as Amelia picked up the stone, the ground began to tremble, and the walls of the cave started to shake. Amelia and Max were frightened and ran out of the cave as fast as they could. When they reached the entrance of the cave, they turned around and saw that the cave had collapsed behind them.\n",
    "\n",
    "Amelia and Max were relieved to have escaped the cave, but they were also curious about the stone Amelia had found. They decided to take it home with them and show it to their parents.\n",
    "\n",
    "When they arrived home, their parents were surprised to see them with the stone. Amelia and Max explained how they had found it in the cave and how the cave had collapsed after they took the stone. Their parents were worried but also intrigued by the stone.\n",
    "\n",
    "Amelia's father, a scholar and historian, examined the stone carefully. He recognized the markings on the stone as an ancient language that had long been forgotten. He believed that the stone was a key to unlocking a hidden treasure that was said to be buried deep within the forest.\n",
    "\n",
    "Excited by this discovery, Amelia and Max decided to go on a quest to find the hidden treasure. Their parents were worried about the dangers they might encounter along the way, but they knew that Amelia and Max were resourceful and capable.\n",
    "\n",
    "The next morning, Amelia and Max set out on their adventure. They packed a bag with food, water, and other supplies, and headed into the forest. They followed a map that their father had given them, which he believed would lead them to the hidden treasure.\n",
    "\n",
    "As they ventured deeper into the forest, Amelia and Max encountered all sorts of creatures, some friendly and some not so friendly. They came across a river that was too wide to cross, so they built a raft and sailed across. They climbed steep hills, crossed narrow bridges, and navigated through dense thickets.\n",
    "\n",
    "After several days of traveling, Amelia and Max arrived at the location marked on the map. It was a small clearing in the middle of the forest, surrounded by tall trees. In the center of the clearing was a large rock with a hole in the center.\n",
    "\n",
    "Amelia and Max approached the rock and examined the hole. It was just large enough for the stone that Amelia had found in the cave. Amelia placed the stone into the hole, and as she did so, the ground began to tremble again.\n",
    "\n",
    "This time, however, the trembling did not stop. The ground cracked open, and a hidden staircase appeared. Amelia and Max were excited and a little bit nervous as they descended the staircase.\n",
    "\n",
    "At the bottom of the staircase was a large chamber, similar to the one they had found in the cave. In the center of the chamber was a pedestal with a chest resting on it. Amelia and Max approached the chest and opened it.\n",
    "\n",
    "Inside the chest was a collection of gold coins, jewels, and other valuable items. Amelia and Max were thrilled to have found the hidden treasure. They carefully packed the treasure into their bags and began the journey home.\n",
    "\n",
    "When they arrived home, their parents were relieved to see them safe and sound. Amelia and Max showed them the treasure they had found, and their parents were amazed. They were proud of their children for their bravery and resourcefulness.\n",
    "\n",
    "Amelia and Max were heroes in their village, and the story of their adventure became legendary. They had found the hidden treasure and returned home safely, proving that with courage and determination, anything is possible.'''\n"
   ]
  },
  {
   "cell_type": "code",
   "execution_count": 7,
   "id": "60299006-2bfc-45ed-aa3d-cddf582dd056",
   "metadata": {},
   "outputs": [
    {
     "name": "stdout",
     "output_type": "stream",
     "text": [
      "######### Recursion level:  1 \n",
      "\n",
      "######### \n",
      "Number of pieces:  6\n",
      "****************************************************\n",
      "Piece: 1  out of  6 pieces\n",
      "Once upon a time, in a land far, far away, there lived a young girl named Amelia. Amelia lived in a small cottage at the edge of a dense forest with her mother, father, and younger brother, Max. The forest was a magical place, filled with all sorts of creatures, both friendly and fearsome. Amelia and Max loved to explore the forest, and they had many adventures there.\n",
      "\n",
      "One day, while Amelia and Max were exploring a particularly dense part of the forest, they stumbled upon a hidden cave. The cave was tucked away behind a thicket of bushes and was almost invisible unless you knew where to look. Amelia and Max were curious and decided to venture inside.\n",
      "a\n",
      "The inside of the cave was dark and damp, but Amelia and Max were not afraid. They had brought a lantern with them, and Amelia lit it as they ventured further into the cave. As they walked deeper into the cave, they noticed strange markings on the walls. They were unlike anything they \n",
      "\n",
      "SUMNMARY:  Amelia lived in a small cottage at the edge of a dense forest with her mother, father, and younger brother, Max. The forest was a magical place, filled with all sorts of creatures, both friendly and fearsome. Amelia and Max loved to explore the forest, and they had many adventures there. One day they stumbled upon a hidden cave.\n",
      "****************************************************\n",
      "****************************************************\n",
      "Piece: 2  out of  6 pieces\n",
      " they walked deeper into the cave, they noticed strange markings on the walls. They were unlike anything they had ever seen before.\n",
      "\n",
      "Amelia and Max continued to explore the cave, and as they ventured deeper, they came across a large chamber. In the center of the chamber was a pedestal with a small, glowing object resting on it. Amelia approached the pedestal and picked up the object. It was a small, round stone that emitted a soft, warm light.\n",
      "\n",
      "As soon as Amelia picked up the stone, the ground began to tremble, and the walls of the cave started to shake. Amelia and Max were frightened and ran out of the cave as fast as they could. When they reached the entrance of the cave, they turned around and saw that the cave had collapsed behind them.\n",
      "\n",
      "Amelia and Max were relieved to have escaped the cave, but they were also curious about the stone Amelia had found. They decided to take it home with them and show it to their \n",
      "\n",
      "SUMNMARY:  Amelia and Max found strange markings on the walls of a cave. As they explored the cave, they came across a large chamber. In the center of the chamber was a pedestal with a small, glowing object resting on it. Amelia approached the pedestal and picked up the object.\n",
      "****************************************************\n",
      "****************************************************\n",
      "Piece: 3  out of  6 pieces\n",
      " about the stone Amelia had found. They decided to take it home with them and show it to their parents.\n",
      "\n",
      "When they arrived home, their parents were surprised to see them with the stone. Amelia and Max explained how they had found it in the cave and how the cave had collapsed after they took the stone. Their parents were worried but also intrigued by the stone.\n",
      "\n",
      "Amelia's father, a scholar and historian, examined the stone carefully. He recognized the markings on the stone as an ancient language that had long been forgotten. He believed that the stone was a key to unlocking a hidden treasure that was said to be buried deep within the forest.\n",
      "\n",
      "Excited by this discovery, Amelia and Max decided to go on a quest to find the hidden treasure. Their parents were worried about the dangers they might encounter along the way, but they knew that Amelia and Max were resourceful and capable.\n",
      "\n",
      "The next morning, Amelia and Max set out on their adventure. They packed a bag \n",
      "\n",
      "SUMNMARY:  Amelia and Max found a stone in a cave and decided to take it home to show their parents. Their parents were worried but also intrigued by the stone. Their father recognized the markings on the stone as an ancient language. He believed that the stone was a key to unlocking a hidden treasure.\n",
      "****************************************************\n",
      "****************************************************\n",
      "Piece: 4  out of  6 pieces\n",
      ".\n",
      "\n",
      "The next morning, Amelia and Max set out on their adventure. They packed a bag with food, water, and other supplies, and headed into the forest. They followed a map that their father had given them, which he believed would lead them to the hidden treasure.\n",
      "\n",
      "As they ventured deeper into the forest, Amelia and Max encountered all sorts of creatures, some friendly and some not so friendly. They came across a river that was too wide to cross, so they built a raft and sailed across. They climbed steep hills, crossed narrow bridges, and navigated through dense thickets.\n",
      "\n",
      "After several days of traveling, Amelia and Max arrived at the location marked on the map. It was a small clearing in the middle of the forest, surrounded by tall trees. In the center of the clearing was a large rock with a hole in the center.\n",
      "\n",
      "Amelia and Max approached the rock and examined the hole. It was just large enough for the stone that Amelia had found \n",
      "\n",
      "SUMNMARY:  The next morning, Amelia and Max set out on their adventure. They followed a map that their father had given them, which he believed would lead them to the hidden treasure. They encountered all sorts of creatures, some friendly and some not so friendly.\n",
      "****************************************************\n",
      "****************************************************\n",
      "Piece: 5  out of  6 pieces\n",
      " approached the rock and examined the hole. It was just large enough for the stone that Amelia had found in the cave. Amelia placed the stone into the hole, and as she did so, the ground began to tremble again.\n",
      "\n",
      "This time, however, the trembling did not stop. The ground cracked open, and a hidden staircase appeared. Amelia and Max were excited and a little bit nervous as they descended the staircase.\n",
      "\n",
      "At the bottom of the staircase was a large chamber, similar to the one they had found in the cave. In the center of the chamber was a pedestal with a chest resting on it. Amelia and Max approached the chest and opened it.\n",
      "\n",
      "Inside the chest was a collection of gold coins, jewels, and other valuable items. Amelia and Max were thrilled to have found the hidden treasure. They carefully packed the treasure into their bags and began the journey home.\n",
      "\n",
      "When they arrived home, their parents were relieved to see them safe and sound. Amelia and \n",
      "\n",
      "SUMNMARY:  Amelia placed the stone into the hole, and as she did so, the ground began to tremble again. The ground cracked open, and a hidden staircase appeared. At the bottom of the staircase was a large chamber with a chest. Inside the chest was a collection of gold coins, jewels, and other valuable items.\n",
      "****************************************************\n",
      "****************************************************\n",
      "Piece: 6  out of  6 pieces\n",
      "\n",
      "\n",
      "When they arrived home, their parents were relieved to see them safe and sound. Amelia and Max showed them the treasure they had found, and their parents were amazed. They were proud of their children for their bravery and resourcefulness.\n",
      "\n",
      "Amelia and Max were heroes in their village, and the story of their adventure became legendary. They had found the hidden treasure and returned home safely, proving that with courage and determination, anything is possible. \n",
      "\n",
      "SUMNMARY:  Amelia and Max were heroes in their village, and the story of their adventure became legendary. They had found the hidden treasure and returned home safely.\n",
      "****************************************************\n",
      "############# GOING RECURSIVE ##############\n",
      "######### Recursion level:  2 \n",
      "\n",
      "######### \n",
      "Number of pieces:  2\n",
      "****************************************************\n",
      "Piece: 1  out of  2 pieces\n",
      "Amelia lived in a small cottage at the edge of a dense forest with her mother, father, and younger brother, Max. The forest was a magical place, filled with all sorts of creatures, both friendly and fearsome. Amelia and Max loved to explore the forest, and they had many adventures there. One day they stumbled upon a hidden cave. Amelia and Max found strange markings on the walls of a cave. As they explored the cave, they came across a large chamber. In the center of the chamber was a pedestal with a small, glowing object resting on it. Amelia approached the pedestal and picked up the object. Amelia and Max found a stone in a cave and decided to take it home to show their parents. Their parents were worried but also intrigued by the stone. Their father recognized the markings on the stone as an ancient language. He believed that the stone was a key to unlocking a hidden treasure. The next morning, Amelia and Max set out on their adventure. They followed a map that their \n",
      "\n",
      "SUMNMARY:  Amelia and Max found a stone in a cave and decided to take it home to show their parents. Their parents were worried but also intrigued by the stone. Their father recognized the markings on the stone as an ancient language. He believed the stone was a key to unlocking a hidden treasure.\n",
      "****************************************************\n",
      "****************************************************\n",
      "Piece: 2  out of  2 pieces\n",
      ". The next morning, Amelia and Max set out on their adventure. They followed a map that their father had given them, which he believed would lead them to the hidden treasure. They encountered all sorts of creatures, some friendly and some not so friendly. Amelia placed the stone into the hole, and as she did so, the ground began to tremble again. The ground cracked open, and a hidden staircase appeared. At the bottom of the staircase was a large chamber with a chest. Inside the chest was a collection of gold coins, jewels, and other valuable items. Amelia and Max were heroes in their village, and the story of their adventure became legendary. They had found the hidden treasure and returned home safely. \n",
      "\n",
      "SUMNMARY:  Amelia placed the stone into the hole, and as she did so, the ground began to tremble again. The ground cracked open, and a hidden staircase appeared. At the bottom of the staircase was a large chamber with a chest. The chest contained gold coins, jewels, and other valuable items.\n",
      "****************************************************\n",
      "\n",
      "%%%%%%%%%%%%%%%%%%%%%\n",
      "\n",
      "Final summary: Amelia and Max found a stone in a cave and decided to take it home to show their parents. Their parents were worried but also intrigued by the stone. Their father recognized the markings on the stone as an ancient language. He believed the stone was a key to unlocking a hidden treasure.\n"
     ]
    }
   ],
   "source": [
    "final_summary = recursive_summarize(text)\n",
    "print(\"\\n%%%%%%%%%%%%%%%%%%%%%\\n\")\n",
    "print(\"Final summary:\", final_summary)"
   ]
  },
  {
   "cell_type": "code",
   "execution_count": null,
   "id": "0b815cd2-e0c1-4e92-85fa-4ba9048868f1",
   "metadata": {},
   "outputs": [],
   "source": []
  }
 ],
 "metadata": {
  "kernelspec": {
   "display_name": "Python 3 (ipykernel)",
   "language": "python",
   "name": "python3"
  },
  "language_info": {
   "codemirror_mode": {
    "name": "ipython",
    "version": 3
   },
   "file_extension": ".py",
   "mimetype": "text/x-python",
   "name": "python",
   "nbconvert_exporter": "python",
   "pygments_lexer": "ipython3",
   "version": "3.11.4"
  }
 },
 "nbformat": 4,
 "nbformat_minor": 5
}
