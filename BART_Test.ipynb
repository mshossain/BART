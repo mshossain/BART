{
 "cells": [
  {
   "cell_type": "code",
   "execution_count": 1,
   "id": "9735f007-c75e-45a2-995f-31780d998f9d",
   "metadata": {},
   "outputs": [],
   "source": [
    "from transformers import BartForConditionalGeneration, BartTokenizer"
   ]
  },
  {
   "cell_type": "code",
   "execution_count": 2,
   "id": "a16a473b-31df-4970-8023-938560882933",
   "metadata": {},
   "outputs": [],
   "source": [
    "# Load the model and tokenizer\n",
    "model = BartForConditionalGeneration.from_pretrained(\n",
    "    'facebook/bart-large-cnn')\n",
    "tokenizer = BartTokenizer.from_pretrained(\n",
    "    'facebook/bart-large-cnn')"
   ]
  },
  {
   "cell_type": "code",
   "execution_count": 12,
   "id": "f7f7614b-a7d8-4a8b-82dd-b3f081ce8c5e",
   "metadata": {},
   "outputs": [],
   "source": [
    "def response(query, maxResponselength=300):\n",
    "    # Encode the text and summarize\n",
    "    inputs = tokenizer.encode(query, return_tensors=\"pt\",\n",
    "                              max_length=5024, truncation=True)\n",
    "    responsetext_ids = model.generate(inputs, max_length=maxResponselength,\n",
    "                                 min_length=int(maxResponselength/5),\n",
    "                                 length_penalty=10.0,\n",
    "                                 num_beams=4, early_stopping=True)\n",
    "    theResponse = tokenizer.decode(responsetext_ids[0], skip_special_tokens=True)\n",
    "    return theResponse"
   ]
  },
  {
   "cell_type": "code",
   "execution_count": 13,
   "id": "b2d6cc21-7cd7-4d1b-a75c-be3d4651aa64",
   "metadata": {},
   "outputs": [
    {
     "data": {
      "text/plain": [
       "\"Elon Musk's $1 million-a-day sweepstakes was never a lottery, a Philadelphia judge says. Judge Angelo Foglietta wrote in a written decision why he declined to shut the program down. The decision would help Musk and his America PAC move for outright dismissal of the lawsuit.\""
      ]
     },
     "execution_count": 13,
     "metadata": {},
     "output_type": "execute_result"
    }
   ],
   "source": [
    "ARTICLE = \"\"\"Elon Musk runs half a dozen companies, but the work involved in keeping the Muskonomy humming hasn't stopped him from beefing with his fellow billionaires this year.\n",
    "\n",
    "His platform of choice for trading barbs, firing insults, and sharing generally unfiltered thoughts is X, the platform formerly known as Twitter, which he bought in late 2022.\n",
    "\n",
    "\"Have I shot myself in the foot multiple times? Yes,\" Musk said of his posting habits in an April 2023 interview with BBC's James Clayton.\n",
    "\n",
    "\"I think I should not tweet after 3:00 a.m. If you're gonna tweet something that maybe is controversial, save it as a draft, then look at it the next day and see if you still want to tweet it,\" he added.\n",
    "\n",
    "To be sure, Musk's history of fights stretches way further back than 2024, and not everyone he trades barbs with takes it personally.\n",
    "\n",
    "\"I have fun sparring with Elon. He likes to troll and so do I,\" Mark Cuban told BI on Monday. \"I have no issues with him.\"\n",
    "\n",
    "Here's a non-exhaustive list of the billionaires Musk has fought with in 2024.\n",
    "\n",
    "Representatives for Musk didn't respond to a request for comment from BI for this story.\n",
    "\n",
    "A Philadelphia judge has explained why he didn't shut down Musk's $1 million-a-day sweepstakes.\n",
    "Pennsylvania officials had called the program an illegal lottery in seeking to halt it immediately.\n",
    "The decision would help Musk and his America PAC move for outright dismissal of the lawsuit.\n",
    "Elon Musk's controversial $1 million-a-day swing state sweepstakes was never a lottery, a Philadelphia judge said in a written decision explaining why he declined to shut the program down after a hearing last Monday.\n",
    "\n",
    "Philadelphia County District Attorney Larry Krasner sued Musk and his super PAC over the giveaway last month, saying it was an unregulated and illegal lottery.\n",
    "\n",
    "In a written decision issued Tuesday night, Judge Angelo Foglietta of Philadelphia's Court of Common Pleas said that Musk's giveaway failed to meet any of the three criteria required for a lottery under Pennsylvania law.\n",
    "\n",
    "Lotteries require a prize, a payment for a chance to win that prize, and for winners to be chosen at random, the judge said.\n",
    "\n",
    "Testimony and evidence from last week's hearing showed instead that participants did not pay for the chance to enter the sweepstakes, were carefully selected before winning, and received their $1 million windfalls as compensation for working with the PAC, not as a lottery prize.\n",
    "\n",
    "Musk had repeatedly explained online and at rallies that those chosen to receive $1 million during the 18-day giveaway were being asked in return to be spokespeople for America PAC, the judge wrote.\n",
    "\n",
    "The PAC's treasurer \"testified credibly when he stated that those selected to earn the one million dollars were selected by the organization in a multi-step process that involved looking at their public posts on social media and meeting them in person before the town hall events to make sure their personality would be a good fit for the role,\" the judge wrote.\n",
    "\n",
    "\"Credible testimony also established that those selected were not determined by chance and Petitioner agreed that a lack of random selection is not a lottery,\" he wrote, referring to last Monday's hearing.\n",
    "\n",
    "Recipients signed contracts in which they agreed to represent the PAC at political rallies and online promotions in return for receiving their $1 million by November 30, according to evidence and testimony from PAC officials who took the stand at last week's hearing.\n",
    "\n",
    "Participants entered the sweepstakes by signing a pledge of support for free speech and gun rights, for which they received cash payments of between $47 and $100 plus a daily chance to receive $1 million.  \n",
    "\"\"\"\n",
    "\n",
    "response(ARTICLE)"
   ]
  },
  {
   "cell_type": "code",
   "execution_count": null,
   "id": "9194c3fd-3c0e-4d94-966b-83db098f7e7a",
   "metadata": {},
   "outputs": [],
   "source": []
  }
 ],
 "metadata": {
  "kernelspec": {
   "display_name": "Python 3 (ipykernel)",
   "language": "python",
   "name": "python3"
  },
  "language_info": {
   "codemirror_mode": {
    "name": "ipython",
    "version": 3
   },
   "file_extension": ".py",
   "mimetype": "text/x-python",
   "name": "python",
   "nbconvert_exporter": "python",
   "pygments_lexer": "ipython3",
   "version": "3.11.4"
  }
 },
 "nbformat": 4,
 "nbformat_minor": 5
}
